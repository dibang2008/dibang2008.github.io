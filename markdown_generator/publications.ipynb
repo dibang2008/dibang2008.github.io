{
 "cells": [
  {
   "cell_type": "markdown",
   "metadata": {},
   "source": [
    "# Publications markdown generator for academicpages\n",
    "\n",
    "Takes a TSV of publications with metadata and converts them for use with [academicpages.github.io](academicpages.github.io). This is an interactive Jupyter notebook ([see more info here](http://jupyter-notebook-beginner-guide.readthedocs.io/en/latest/what_is_jupyter.html)). The core python code is also in `publications.py`. Run either from the `markdown_generator` folder after replacing `publications.tsv` with one containing your data.\n",
    "\n",
    "TODO: Make this work with BibTex and other databases of citations, rather than Stuart's non-standard TSV format and citation style.\n"
   ]
  },
  {
   "cell_type": "markdown",
   "metadata": {},
   "source": [
    "## Data format\n",
    "\n",
    "The TSV needs to have the following columns: pub_date, title, venue, excerpt, citation, site_url, and paper_url, with a header at the top. \n",
    "\n",
    "- `excerpt` and `paper_url` can be blank, but the others must have values. \n",
    "- `pub_date` must be formatted as YYYY-MM-DD.\n",
    "- `url_slug` will be the descriptive part of the .md file and the permalink URL for the page about the paper. The .md file will be `YYYY-MM-DD-[url_slug].md` and the permalink will be `https://[yourdomain]/publications/YYYY-MM-DD-[url_slug]`\n",
    "\n",
    "This is how the raw file looks (it doesn't look pretty, use a spreadsheet or other program to edit and create)."
   ]
  },
  {
   "cell_type": "code",
   "execution_count": 1,
   "metadata": {},
   "outputs": [
    {
     "name": "stdout",
     "output_type": "stream",
     "text": [
      "pub_date,authors,title,venue,url_slug,paper_url\r",
      "\r\n",
      "2016-06-01,\"Hui Guan, Wen Tang, Hamid Krim, James Keiser, Andrew Rindos, and Radmila Sazdanovic\",A topological collapse for document summarization,\"2016 IEEE 17th International Workshop on Signal Processing Advances in Wireless Communications (SPAWC), 2016.\",spawc,http://guanh01.github.io/files/2016spawc.pdf\r",
      "\r\n",
      "2016-12-01,\"Hui Guan, Thanos Gentimis, Hamid , and James Keiser\",First Study on Data Readiness Level,arXiv preprint arXiv:1702.02107 (Preprint),arxiv,http://guanh01.github.io/files/2017arxiv.pdf\r",
      "\r\n",
      "2017-01-01,\"Yufei Ding, Lin Ning, Hui Guan, Xipeng Shen\",Generalizations of the Theory and Deployment of Triangular Inequality for Compiler-Based Strength Reduction,\"Proceedings of the 38th ACM SIGPLAN Conference on Programming Language Design and Implementation (PLDI), 2017. (Acceptance rate: 15% (47/322)) \",pldi,http://guanh01.github.io/files/2017pldi.pdf\r",
      "\r\n",
      "2017-11-14,\"Hui Guan, Xipeng Shen, and Hamid Krim\",Egeria: a framework for automatic synthesis of HPC advising tools through multi-layered natural language processing,\"Proceedings of the International Conference for High Performance Computing, Networking, Storage and Analysis (SC), 2017. (Acceptance rate: 18% (61/327))\",sc,http://guanh01.github.io/files/2017sc.pdf\r",
      "\r\n",
      "2018-02-01,\"Yufei Ding, Lin Ning, Hui Guan, Xipeng Shen, Madanlal Musuvathi, Todd Mytkowicz\",TOP: A Compiler-Based Framework for Optimizing Machine Learning Algorithms through Generalized Triangle Inequality,\"SysML, Feb 16th, 2018, Stanford University, 2018 (Poster)\",top,http://guanh01.github.io/files/2018top.pdf\r",
      "\r\n",
      "2018-09-01,\"Hui Guan, Yufei Ding, Xipeng Shen, and Hamid Krim\",Reuse-Centric K-Means Configuration,\"34th International Conference on Data Engineering (ICDE), 2018. (short paper) (Acceptance rate: 23%)\",icde,http://guanh01.github.io/files/2018icde.pdf\r",
      "\r\n",
      "2018-11-01,\"Randall Pittman, Hui Guan, Xipeng Shen, Seung-Hwan Lim, and Robert M. Patton\",Exploring flexible communications for streamlining DNN ensemble training pipelines,\"Proceedings of the International Conference for High Performance Computing, Networking, Storage, and Analysis (SC), 2018. (Acceptance rate: 23%) \",sc,http://guanh01.github.io/files/2018sc.pdf\r",
      "\r\n",
      "2019-06-01,\"Lin Ning, Hui Guan, and Xipeng Shen\",Adaptive Deep Reuse: Accelerating CNN Training on the Fly,\"35th International Conference on Data Engineering (ICDE), 2019. (Acceptance rate: 18%)\",icde,http://guanh01.github.io/files/2019icde.pdf\r",
      "\r\n",
      "2019-06-11,\"Hui Guan, Xipeng Shen, and Seung-Hwan Lim\",Wootz: a compiler-based framework for fast CNN pruning via composability,\"Proceedings of the 40th ACM SIGPLAN Conference on Programming Language Design and Implementation (PLDI), 2019. (Acceptance rate: 27.7% (76/274)) \",pldi,http://guanh01.github.io/files/2019pldi.pdf\r",
      "\r\n",
      "2019-12-09,\"Hui Guan, Lin Ning, Zhen Lin, Xipeng Shen, Huiyang Zhou, and Seung-Hwan Lim\",In-Place Zero-Space Memory Protection for CNN,\"Advances in Neural Information Processing Systems (NeurIPS),  2019. (Acceptance rate: 21.2% (1428/6743)) \",nips,http://guanh01.github.io/files/2019nips.pdf\r",
      "\r\n",
      "2019-12-09,\"Hui Guan, Andrey Malevich, Jiyan Yang, Jongsoo Park, Hector Yuen \",Post-Training 4-bit Quantization on Embedding Tables,\"MLSys Workshop on Systems for ML @ NeurIPS, 2019 (Poster)\",fb,http://guanh01.github.io/files/2019fb.pdf\r",
      "\r\n",
      "2020-03-04,\"Hui Guan, Laxmikant Kishor Mokadam, Xipeng Shen, Seung-Hwan Lim, Robert Patton\",FLEET: Flexible Efficient Ensemble Training for Heterogeneous Deep Neural Networks,\"3rd Conference on Machine Learning and Systems (MLSys), March 2020, Austin, TX, USA. (Acceptance rate: 20% (34/170)) \",mlsys,http://guanh01.github.io/files/2020mlsys.pdf"
     ]
    }
   ],
   "source": [
    "!cat publications.csv"
   ]
  },
  {
   "cell_type": "markdown",
   "metadata": {},
   "source": [
    "## Import pandas\n",
    "\n",
    "We are using the very handy pandas library for dataframes."
   ]
  },
  {
   "cell_type": "code",
   "execution_count": 2,
   "metadata": {},
   "outputs": [],
   "source": [
    "import pandas as pd"
   ]
  },
  {
   "cell_type": "markdown",
   "metadata": {},
   "source": [
    "## Import TSV\n",
    "\n",
    "Pandas makes this easy with the read_csv function. We are using a TSV, so we specify the separator as a tab, or `\\t`.\n",
    "\n",
    "I found it important to put this data in a tab-separated values format, because there are a lot of commas in this kind of data and comma-separated values can get messed up. However, you can modify the import statement, as pandas also has read_excel(), read_json(), and others."
   ]
  },
  {
   "cell_type": "code",
   "execution_count": 3,
   "metadata": {},
   "outputs": [
    {
     "data": {
      "text/html": [
       "<div>\n",
       "<style scoped>\n",
       "    .dataframe tbody tr th:only-of-type {\n",
       "        vertical-align: middle;\n",
       "    }\n",
       "\n",
       "    .dataframe tbody tr th {\n",
       "        vertical-align: top;\n",
       "    }\n",
       "\n",
       "    .dataframe thead th {\n",
       "        text-align: right;\n",
       "    }\n",
       "</style>\n",
       "<table border=\"1\" class=\"dataframe\">\n",
       "  <thead>\n",
       "    <tr style=\"text-align: right;\">\n",
       "      <th></th>\n",
       "      <th>pub_date</th>\n",
       "      <th>authors</th>\n",
       "      <th>title</th>\n",
       "      <th>venue</th>\n",
       "      <th>url_slug</th>\n",
       "      <th>paper_url</th>\n",
       "    </tr>\n",
       "  </thead>\n",
       "  <tbody>\n",
       "    <tr>\n",
       "      <td>0</td>\n",
       "      <td>2016-06-01</td>\n",
       "      <td>Hui Guan, Wen Tang, Hamid Krim, James Keiser, ...</td>\n",
       "      <td>A topological collapse for document summarization</td>\n",
       "      <td>2016 IEEE 17th International Workshop on Signa...</td>\n",
       "      <td>spawc</td>\n",
       "      <td>http://guanh01.github.io/files/2016spawc.pdf</td>\n",
       "    </tr>\n",
       "    <tr>\n",
       "      <td>1</td>\n",
       "      <td>2016-12-01</td>\n",
       "      <td>Hui Guan, Thanos Gentimis, Hamid , and James K...</td>\n",
       "      <td>First Study on Data Readiness Level</td>\n",
       "      <td>arXiv preprint arXiv:1702.02107 (Preprint)</td>\n",
       "      <td>arxiv</td>\n",
       "      <td>http://guanh01.github.io/files/2017arxiv.pdf</td>\n",
       "    </tr>\n",
       "    <tr>\n",
       "      <td>2</td>\n",
       "      <td>2017-01-01</td>\n",
       "      <td>Yufei Ding, Lin Ning, Hui Guan, Xipeng Shen</td>\n",
       "      <td>Generalizations of the Theory and Deployment o...</td>\n",
       "      <td>Proceedings of the 38th ACM SIGPLAN Conference...</td>\n",
       "      <td>pldi</td>\n",
       "      <td>http://guanh01.github.io/files/2017pldi.pdf</td>\n",
       "    </tr>\n",
       "    <tr>\n",
       "      <td>3</td>\n",
       "      <td>2017-11-14</td>\n",
       "      <td>Hui Guan, Xipeng Shen, and Hamid Krim</td>\n",
       "      <td>Egeria: a framework for automatic synthesis of...</td>\n",
       "      <td>Proceedings of the International Conference fo...</td>\n",
       "      <td>sc</td>\n",
       "      <td>http://guanh01.github.io/files/2017sc.pdf</td>\n",
       "    </tr>\n",
       "    <tr>\n",
       "      <td>4</td>\n",
       "      <td>2018-02-01</td>\n",
       "      <td>Yufei Ding, Lin Ning, Hui Guan, Xipeng Shen, M...</td>\n",
       "      <td>TOP: A Compiler-Based Framework for Optimizing...</td>\n",
       "      <td>SysML, Feb 16th, 2018, Stanford University, 20...</td>\n",
       "      <td>top</td>\n",
       "      <td>http://guanh01.github.io/files/2018top.pdf</td>\n",
       "    </tr>\n",
       "    <tr>\n",
       "      <td>5</td>\n",
       "      <td>2018-09-01</td>\n",
       "      <td>Hui Guan, Yufei Ding, Xipeng Shen, and Hamid Krim</td>\n",
       "      <td>Reuse-Centric K-Means Configuration</td>\n",
       "      <td>34th International Conference on Data Engineer...</td>\n",
       "      <td>icde</td>\n",
       "      <td>http://guanh01.github.io/files/2018icde.pdf</td>\n",
       "    </tr>\n",
       "    <tr>\n",
       "      <td>6</td>\n",
       "      <td>2018-11-01</td>\n",
       "      <td>Randall Pittman, Hui Guan, Xipeng Shen, Seung-...</td>\n",
       "      <td>Exploring flexible communications for streamli...</td>\n",
       "      <td>Proceedings of the International Conference fo...</td>\n",
       "      <td>sc</td>\n",
       "      <td>http://guanh01.github.io/files/2018sc.pdf</td>\n",
       "    </tr>\n",
       "    <tr>\n",
       "      <td>7</td>\n",
       "      <td>2019-06-01</td>\n",
       "      <td>Lin Ning, Hui Guan, and Xipeng Shen</td>\n",
       "      <td>Adaptive Deep Reuse: Accelerating CNN Training...</td>\n",
       "      <td>35th International Conference on Data Engineer...</td>\n",
       "      <td>icde</td>\n",
       "      <td>http://guanh01.github.io/files/2019icde.pdf</td>\n",
       "    </tr>\n",
       "    <tr>\n",
       "      <td>8</td>\n",
       "      <td>2019-06-11</td>\n",
       "      <td>Hui Guan, Xipeng Shen, and Seung-Hwan Lim</td>\n",
       "      <td>Wootz: a compiler-based framework for fast CNN...</td>\n",
       "      <td>Proceedings of the 40th ACM SIGPLAN Conference...</td>\n",
       "      <td>pldi</td>\n",
       "      <td>http://guanh01.github.io/files/2019pldi.pdf</td>\n",
       "    </tr>\n",
       "    <tr>\n",
       "      <td>9</td>\n",
       "      <td>2019-12-09</td>\n",
       "      <td>Hui Guan, Lin Ning, Zhen Lin, Xipeng Shen, Hui...</td>\n",
       "      <td>In-Place Zero-Space Memory Protection for CNN</td>\n",
       "      <td>Advances in Neural Information Processing Syst...</td>\n",
       "      <td>nips</td>\n",
       "      <td>http://guanh01.github.io/files/2019nips.pdf</td>\n",
       "    </tr>\n",
       "    <tr>\n",
       "      <td>10</td>\n",
       "      <td>2019-12-09</td>\n",
       "      <td>Hui Guan, Andrey Malevich, Jiyan Yang, Jongsoo...</td>\n",
       "      <td>Post-Training 4-bit Quantization on Embedding ...</td>\n",
       "      <td>MLSys Workshop on Systems for ML @ NeurIPS, 20...</td>\n",
       "      <td>fb</td>\n",
       "      <td>http://guanh01.github.io/files/2019fb.pdf</td>\n",
       "    </tr>\n",
       "    <tr>\n",
       "      <td>11</td>\n",
       "      <td>2020-03-04</td>\n",
       "      <td>Hui Guan, Laxmikant Kishor Mokadam, Xipeng She...</td>\n",
       "      <td>FLEET: Flexible Efficient Ensemble Training fo...</td>\n",
       "      <td>3rd Conference on Machine Learning and Systems...</td>\n",
       "      <td>mlsys</td>\n",
       "      <td>http://guanh01.github.io/files/2020mlsys.pdf</td>\n",
       "    </tr>\n",
       "  </tbody>\n",
       "</table>\n",
       "</div>"
      ],
      "text/plain": [
       "      pub_date                                            authors  \\\n",
       "0   2016-06-01  Hui Guan, Wen Tang, Hamid Krim, James Keiser, ...   \n",
       "1   2016-12-01  Hui Guan, Thanos Gentimis, Hamid , and James K...   \n",
       "2   2017-01-01        Yufei Ding, Lin Ning, Hui Guan, Xipeng Shen   \n",
       "3   2017-11-14              Hui Guan, Xipeng Shen, and Hamid Krim   \n",
       "4   2018-02-01  Yufei Ding, Lin Ning, Hui Guan, Xipeng Shen, M...   \n",
       "5   2018-09-01  Hui Guan, Yufei Ding, Xipeng Shen, and Hamid Krim   \n",
       "6   2018-11-01  Randall Pittman, Hui Guan, Xipeng Shen, Seung-...   \n",
       "7   2019-06-01                Lin Ning, Hui Guan, and Xipeng Shen   \n",
       "8   2019-06-11          Hui Guan, Xipeng Shen, and Seung-Hwan Lim   \n",
       "9   2019-12-09  Hui Guan, Lin Ning, Zhen Lin, Xipeng Shen, Hui...   \n",
       "10  2019-12-09  Hui Guan, Andrey Malevich, Jiyan Yang, Jongsoo...   \n",
       "11  2020-03-04  Hui Guan, Laxmikant Kishor Mokadam, Xipeng She...   \n",
       "\n",
       "                                                title  \\\n",
       "0   A topological collapse for document summarization   \n",
       "1                 First Study on Data Readiness Level   \n",
       "2   Generalizations of the Theory and Deployment o...   \n",
       "3   Egeria: a framework for automatic synthesis of...   \n",
       "4   TOP: A Compiler-Based Framework for Optimizing...   \n",
       "5                 Reuse-Centric K-Means Configuration   \n",
       "6   Exploring flexible communications for streamli...   \n",
       "7   Adaptive Deep Reuse: Accelerating CNN Training...   \n",
       "8   Wootz: a compiler-based framework for fast CNN...   \n",
       "9       In-Place Zero-Space Memory Protection for CNN   \n",
       "10  Post-Training 4-bit Quantization on Embedding ...   \n",
       "11  FLEET: Flexible Efficient Ensemble Training fo...   \n",
       "\n",
       "                                                venue url_slug  \\\n",
       "0   2016 IEEE 17th International Workshop on Signa...    spawc   \n",
       "1          arXiv preprint arXiv:1702.02107 (Preprint)    arxiv   \n",
       "2   Proceedings of the 38th ACM SIGPLAN Conference...     pldi   \n",
       "3   Proceedings of the International Conference fo...       sc   \n",
       "4   SysML, Feb 16th, 2018, Stanford University, 20...      top   \n",
       "5   34th International Conference on Data Engineer...     icde   \n",
       "6   Proceedings of the International Conference fo...       sc   \n",
       "7   35th International Conference on Data Engineer...     icde   \n",
       "8   Proceedings of the 40th ACM SIGPLAN Conference...     pldi   \n",
       "9   Advances in Neural Information Processing Syst...     nips   \n",
       "10  MLSys Workshop on Systems for ML @ NeurIPS, 20...       fb   \n",
       "11  3rd Conference on Machine Learning and Systems...    mlsys   \n",
       "\n",
       "                                       paper_url  \n",
       "0   http://guanh01.github.io/files/2016spawc.pdf  \n",
       "1   http://guanh01.github.io/files/2017arxiv.pdf  \n",
       "2    http://guanh01.github.io/files/2017pldi.pdf  \n",
       "3      http://guanh01.github.io/files/2017sc.pdf  \n",
       "4     http://guanh01.github.io/files/2018top.pdf  \n",
       "5    http://guanh01.github.io/files/2018icde.pdf  \n",
       "6      http://guanh01.github.io/files/2018sc.pdf  \n",
       "7    http://guanh01.github.io/files/2019icde.pdf  \n",
       "8    http://guanh01.github.io/files/2019pldi.pdf  \n",
       "9    http://guanh01.github.io/files/2019nips.pdf  \n",
       "10     http://guanh01.github.io/files/2019fb.pdf  \n",
       "11  http://guanh01.github.io/files/2020mlsys.pdf  "
      ]
     },
     "execution_count": 3,
     "metadata": {},
     "output_type": "execute_result"
    }
   ],
   "source": [
    "publications = pd.read_csv(\"publications.csv\", sep=\",\", header=0)\n",
    "publications\n"
   ]
  },
  {
   "cell_type": "markdown",
   "metadata": {},
   "source": [
    "## Escape special characters\n",
    "\n",
    "YAML is very picky about how it takes a valid string, so we are replacing single and double quotes (and ampersands) with their HTML encoded equivilents. This makes them look not so readable in raw format, but they are parsed and rendered nicely."
   ]
  },
  {
   "cell_type": "code",
   "execution_count": 4,
   "metadata": {},
   "outputs": [],
   "source": [
    "html_escape_table = {\n",
    "    \"&\": \"&amp;\",\n",
    "    '\"': \"&quot;\",\n",
    "    \"'\": \"&apos;\"\n",
    "    }\n",
    "\n",
    "def html_escape(text):\n",
    "    \"\"\"Produce entities within text.\"\"\"\n",
    "    return \"\".join(html_escape_table.get(c,c) for c in text)"
   ]
  },
  {
   "cell_type": "markdown",
   "metadata": {},
   "source": [
    "## Creating the markdown files\n",
    "\n",
    "This is where the heavy lifting is done. This loops through all the rows in the TSV dataframe, then starts to concatentate a big string (```md```) that contains the markdown for each type. It does the YAML metadata first, then does the description for the individual page."
   ]
  },
  {
   "cell_type": "code",
   "execution_count": 5,
   "metadata": {},
   "outputs": [
    {
     "name": "stdout",
     "output_type": "stream",
     "text": [
      "2016-06-01\n",
      "2016-12-01\n",
      "2017-01-01\n",
      "2017-11-14\n",
      "2018-02-01\n",
      "2018-09-01\n",
      "2018-11-01\n",
      "2019-06-01\n",
      "2019-06-11\n",
      "2019-12-09\n",
      "2019-12-09\n",
      "2020-03-04\n"
     ]
    }
   ],
   "source": [
    "import os\n",
    "for row, item in publications.iterrows():\n",
    "    print(item.pub_date)\n",
    "    md_filename = str(item.pub_date) + \"-\" + item.url_slug + \".md\"\n",
    "    html_filename = str(item.pub_date) + \"-\" + item.url_slug\n",
    "    year = str(item.pub_date)[:4]\n",
    "    \n",
    "    ## YAML variables\n",
    "    \n",
    "    md = \"---\\ntitle: \\\"\"   + item.title + '\"\\n'\n",
    "    \n",
    "    md += \"\"\"collection: publications\"\"\"\n",
    "    \n",
    "    md += \"\"\"\\npermalink: /publication/\"\"\" + html_filename\n",
    "    \n",
    "#     if len(str(item.excerpt)) > 5:\n",
    "#         md += \"\\nexcerpt: '\" + html_escape(item.excerpt) + \"'\"\n",
    "    \n",
    "    md += \"\\ndate: \" + str(item.pub_date) \n",
    "    \n",
    "    md += \"\\nvenue: '\" + html_escape(item.venue) + \"'\"\n",
    "    \n",
    "    if len(str(item.paper_url)) > 5:\n",
    "        md += \"\\npaperurl: '\" + item.paper_url + \"'\"\n",
    "    \n",
    "#     md += \"\\ncitation: '\" + html_escape(item.citation) + \"'\"\n",
    "    md += \"\\nauthors: '\" + item.authors + \"'\"\n",
    "    \n",
    "    md += \"\\n---\"\n",
    "    \n",
    "    ## Markdown description for individual page\n",
    "        \n",
    "#     if len(str(item.excerpt)) > 5:\n",
    "#         md += \"\\n\" + html_escape(item.excerpt) + \"\\n\"\n",
    "    \n",
    "#     if len(str(item.paper_url)) > 5:\n",
    "#         md += \"\\n[Download paper here](\" + item.paper_url + \")\\n\" \n",
    "        \n",
    "#     md += \"\\nRecommended citation: \" + item.citation\n",
    "    \n",
    "    md_filename = os.path.basename(md_filename)\n",
    "       \n",
    "    with open(\"../_publications/\" + md_filename, 'w') as f:\n",
    "        f.write(md)"
   ]
  },
  {
   "cell_type": "markdown",
   "metadata": {},
   "source": [
    "These files are in the publications directory, one directory below where we're working from."
   ]
  },
  {
   "cell_type": "code",
   "execution_count": 6,
   "metadata": {},
   "outputs": [
    {
     "name": "stdout",
     "output_type": "stream",
     "text": [
      "2016-06-01-spawc.md 2017-11-14-sc.md    2018-11-01-sc.md    2019-12-09-fb.md\r\n",
      "2016-12-01-arxiv.md 2018-02-01-top.md   2019-06-01-icde.md  2019-12-09-nips.md\r\n",
      "2017-01-01-pldi.md  2018-09-01-icde.md  2019-06-11-pldi.md  2020-03-04-mlsys.md\r\n"
     ]
    }
   ],
   "source": [
    "!ls ../_publications/"
   ]
  },
  {
   "cell_type": "code",
   "execution_count": 7,
   "metadata": {},
   "outputs": [
    {
     "name": "stdout",
     "output_type": "stream",
     "text": [
      "---\r\n",
      "title: \"Reuse-Centric K-Means Configuration\"\r\n",
      "collection: publications\r\n",
      "permalink: /publication/2018-09-01-icde\r\n",
      "date: 2018-09-01\r\n",
      "venue: '34th International Conference on Data Engineering (ICDE), 2018. (short paper) (Acceptance rate: 23%)'\r\n",
      "paperurl: 'http://guanh01.github.io/files/2018icde.pdf'\r\n",
      "authors: 'Hui Guan, Yufei Ding, Xipeng Shen, and Hamid Krim'\r\n",
      "---"
     ]
    }
   ],
   "source": [
    "!cat ../_publications/2018-09-01-icde.md"
   ]
  },
  {
   "cell_type": "code",
   "execution_count": null,
   "metadata": {},
   "outputs": [],
   "source": []
  },
  {
   "cell_type": "code",
   "execution_count": null,
   "metadata": {},
   "outputs": [],
   "source": []
  },
  {
   "cell_type": "code",
   "execution_count": null,
   "metadata": {},
   "outputs": [],
   "source": []
  },
  {
   "cell_type": "code",
   "execution_count": null,
   "metadata": {},
   "outputs": [],
   "source": []
  }
 ],
 "metadata": {
  "kernelspec": {
   "display_name": "Python 3",
   "language": "python",
   "name": "python3"
  },
  "language_info": {
   "codemirror_mode": {
    "name": "ipython",
    "version": 3
   },
   "file_extension": ".py",
   "mimetype": "text/x-python",
   "name": "python",
   "nbconvert_exporter": "python",
   "pygments_lexer": "ipython3",
   "version": "3.7.4"
  }
 },
 "nbformat": 4,
 "nbformat_minor": 1
}
